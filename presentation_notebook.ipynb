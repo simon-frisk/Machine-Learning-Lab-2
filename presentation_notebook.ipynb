{
 "cells": [
  {
   "cell_type": "code",
   "execution_count": 2,
   "metadata": {},
   "outputs": [],
   "source": [
    "import numpy as np\n",
    "import random\n",
    "import math\n",
    "from scipy.optimize import minimize\n",
    "import matplotlib.pyplot as plt\n",
    "import kernel as kernel_collection\n",
    "import plot\n",
    "import test_data"
   ]
  },
  {
   "cell_type": "code",
   "execution_count": 3,
   "metadata": {},
   "outputs": [],
   "source": [
    "np.random.seed(100)\n",
    "\n",
    "# Get P matrix\n",
    "def get_P(N, targets, inputs, kernel):\n",
    "    P = np.zeros((N, N))\n",
    "    for i in range(N):\n",
    "        for j in range(N):\n",
    "            P[i, j] = targets[i]*targets[j]*kernel(inputs[i, :], inputs[j, :])\n",
    "    return P\n",
    "\n",
    "# Define helper functions\n",
    "def zerofun(a):\n",
    "    return np.dot(a, targets)\n",
    "\n",
    "\n",
    "def get_non_zeros(a):\n",
    "    results = []\n",
    "    for i, val in enumerate(a):\n",
    "        if val > 1e-5:\n",
    "            results.append({\n",
    "                'a': val,\n",
    "                'x': inputs[i, :],\n",
    "                't': targets[i]\n",
    "            })\n",
    "    return results\n",
    "\n",
    "\n",
    "def compute_bias(a):\n",
    "    non_zeros = get_non_zeros(a)\n",
    "\n",
    "    support_vector = non_zeros[0]['x']\n",
    "    #support_vector_indicator = indicator(a, support_vector)\n",
    "\n",
    "    sum = 0\n",
    "\n",
    "    for i in range(N):\n",
    "        sum += a[i]*targets[i]*kernel(support_vector, inputs[i, :])\n",
    "\n",
    "    return sum - non_zeros[0]['t']\n",
    "\n",
    "\n",
    "def indicator(a, s):\n",
    "    sum = 0\n",
    "    for i in range(N):\n",
    "        sum += a[i]*targets[i]*kernel(s, inputs[i, :])\n",
    "    return sum - compute_bias(a)\n",
    "\n",
    "\n",
    "def master(classA, classB, inputs, targets, N, kernel, C):\n",
    "    P = get_P(N, targets, inputs, kernel)\n",
    "    bounds = [(0, C) for b in range(N)]\n",
    "\n",
    "    def objective(a):\n",
    "        return 0.5 * np.dot(np.transpose(a), np.dot(P, a)) - np.sum(a)\n",
    "    \n",
    "    results = minimize(objective, np.random.randn(N), bounds=bounds,\n",
    "                   constraints={'type': 'eq', 'fun': zerofun})\n",
    "\n",
    "    alphas = results['x']\n",
    "\n",
    "    plot.plot(alphas, indicator, classA, classB)"
   ]
  },
  {
   "attachments": {},
   "cell_type": "markdown",
   "metadata": {},
   "source": [
    "Question 1"
   ]
  },
  {
   "cell_type": "code",
   "execution_count": null,
   "metadata": {},
   "outputs": [],
   "source": [
    "# Get data\n",
    "N = 40\n",
    "inputs, targets, classA, classB = test_data.generate(N)\n",
    "\n",
    "# Get kernel\n",
    "kernel = kernel_collection.polynomial(3)\n",
    "\n",
    "# Get constraint\n",
    "C = 100"
   ]
  }
 ],
 "metadata": {
  "kernelspec": {
   "display_name": "base",
   "language": "python",
   "name": "python3"
  },
  "language_info": {
   "codemirror_mode": {
    "name": "ipython",
    "version": 3
   },
   "file_extension": ".py",
   "mimetype": "text/x-python",
   "name": "python",
   "nbconvert_exporter": "python",
   "pygments_lexer": "ipython3",
   "version": "3.9.13"
  },
  "orig_nbformat": 4,
  "vscode": {
   "interpreter": {
    "hash": "2d692fe9405e4b92159365ff4fdf361297768db5a718f8d6403619c1bbda7cad"
   }
  }
 },
 "nbformat": 4,
 "nbformat_minor": 2
}
